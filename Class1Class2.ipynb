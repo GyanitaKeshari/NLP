{
 "cells": [
  {
   "cell_type": "code",
   "execution_count": 3,
   "metadata": {},
   "outputs": [
    {
     "name": "stderr",
     "output_type": "stream",
     "text": [
      "DEPRECATION: Python 2.7 will reach the end of its life on January 1st, 2020. Please upgrade your Python as Python 2.7 won't be maintained after that date. A future version of pip will drop support for Python 2.7.\n",
      "[nltk_data] Downloading package stopwords to\n",
      "[nltk_data]     C:\\Users\\HP\\AppData\\Roaming\\nltk_data...\n",
      "[nltk_data]   Package stopwords is already up-to-date!\n",
      "[nltk_data] Downloading package wordnet to\n",
      "[nltk_data]     C:\\Users\\HP\\AppData\\Roaming\\nltk_data...\n",
      "[nltk_data]   Package wordnet is already up-to-date!\n",
      "[nltk_data] Downloading package punkt to\n",
      "[nltk_data]     C:\\Users\\HP\\AppData\\Roaming\\nltk_data...\n",
      "[nltk_data]   Package punkt is already up-to-date!\n",
      "[nltk_data] Downloading package averaged_perceptron_tagger to\n",
      "[nltk_data]     C:\\Users\\HP\\AppData\\Roaming\\nltk_data...\n",
      "[nltk_data]   Package averaged_perceptron_tagger is already up-to-\n",
      "[nltk_data]       date!\n"
     ]
    },
    {
     "data": {
      "text/plain": [
       "True"
      ]
     },
     "execution_count": 3,
     "metadata": {},
     "output_type": "execute_result"
    }
   ],
   "source": [
    "!pip install -q wordcloud\n",
    "import wordcloud\n",
    "import nltk\n",
    "nltk.download('stopwords')\n",
    "nltk.download('wordnet')\n",
    "nltk.download('punkt')\n",
    "nltk.download('averaged_perceptron_tagger') "
   ]
  },
  {
   "cell_type": "code",
   "execution_count": 4,
   "metadata": {},
   "outputs": [
    {
     "name": "stdout",
     "output_type": "stream",
     "text": [
      "['The', 'original', '1950', 'constitution', 'is', 'preserved', 'in', 'a', 'helium-filled', 'case', 'at', 'the', 'Parliament', 'House', 'in', 'New', 'Delhi', '.']\n"
     ]
    }
   ],
   "source": [
    "# Tokenizing word\n",
    "word_data = \"The original 1950 constitution is preserved in a helium-filled case at the Parliament House in New Delhi.\"\n",
    "words = nltk.word_tokenize(word_data)\n",
    "print (words)"
   ]
  },
  {
   "cell_type": "code",
   "execution_count": 5,
   "metadata": {},
   "outputs": [
    {
     "name": "stdout",
     "output_type": "stream",
     "text": [
      "['The constitution declares India a sovereign, socialist, secular, democratic republic, assuring its citizens justice, equality and liberty, and endeavours to promote fraternity.', 'The original 1950 constitution is preserved in a helium-filled case at the Parliament House in New Delhi.']\n"
     ]
    }
   ],
   "source": [
    "# Tokenizing sentences\n",
    "sentence_data = \"The constitution declares India a sovereign, socialist, secular, democratic republic, assuring its citizens justice, equality and liberty, and endeavours to promote fraternity. The original 1950 constitution is preserved in a helium-filled case at the Parliament House in New Delhi.\"\n",
    "sentences = nltk.sent_tokenize(sentence_data)\n",
    "print (sentences)"
   ]
  },
  {
   "cell_type": "code",
   "execution_count": 6,
   "metadata": {},
   "outputs": [
    {
     "name": "stdout",
     "output_type": "stream",
     "text": [
      "['The', 'original', '1950', 'constitution', 'is', 'preserved', 'in', 'a', 'helium-filled', 'case', 'at', 'the', 'Parliament', 'House', 'in', 'New', 'Delhi', '.']\n",
      "['The', 'original', '1950', 'constitution', 'preserved', 'helium-filled', 'case', 'Parliament', 'House', 'New', 'Delhi', '.']\n"
     ]
    }
   ],
   "source": [
    "# Stop words removal\n",
    "from nltk.corpus import stopwords\n",
    "sentence_data = \"The constitution declares India a sovereign, socialist, secular, democratic republic, assuring its citizens justice, equality and liberty, and endeavours to promote fraternity. The original 1950 constitution is preserved in a helium-filled case at the Parliament House in New Delhi.\"\n",
    "stop_words = set(stopwords.words('english'))\n",
    "words = nltk.word_tokenize(word_data)\n",
    "output_sentence = [w for w in words if not w in stop_words]\n",
    "output_sentence = []\n",
    "for w in words:\n",
    "    if w not in stop_words:\n",
    "        output_sentence.append(w)\n",
    "print(words)\n",
    "print(output_sentence)"
   ]
  },
  {
   "cell_type": "code",
   "execution_count": 12,
   "metadata": {},
   "outputs": [
    {
     "name": "stdout",
     "output_type": "stream",
     "text": [
      "1\n",
      "[u'A constitut aggreg fundament principl establish preced constitut legal basi politi , organis type entiti commonli determin entiti govern .']\n"
     ]
    }
   ],
   "source": [
    "from nltk.stem import PorterStemmer\n",
    "paragraph =\"\"\"A constitution is an aggregate of fundamental principles or established precedents that constitute the legal basis of a polity, organisation or other type of entity and commonly determine how that entity is to be governed.\"\"\"\n",
    "\n",
    "# Tokenizing sentences: Length\n",
    "sentences = nltk.sent_tokenize(paragraph)\n",
    "print(len(sentences))\n",
    "\n",
    "# Stemming\n",
    "for i in range(len(sentences)):\n",
    "    words = nltk.word_tokenize(sentences[i])\n",
    "    stemmer = PorterStemmer()\n",
    "    words = [stemmer.stem(word) for word in words if word not in set(stopwords.words('english'))]\n",
    "    sentences[i] = ' '.join(words) \n",
    "\n",
    "print(sentences) ;"
   ]
  },
  {
   "cell_type": "code",
   "execution_count": 14,
   "metadata": {},
   "outputs": [
    {
     "name": "stdout",
     "output_type": "stream",
     "text": [
      "[u'A constitut aggreg fundament principl establish preced constitut legal basi politi , organis type entiti commonli determin entiti govern .']\n"
     ]
    }
   ],
   "source": [
    "from nltk.stem import WordNetLemmatizer\n",
    "paragraph =\"\"\"A constitution is an aggregate of fundamental principles or established precedents that constitute the legal basis of a polity, organisation or other type of entity and commonly determine how that entity is to be governed.\"\"\"\n",
    "\n",
    "# Lemmitizing\n",
    "lemmatizer = WordNetLemmatizer()\n",
    "for i in range(len(sentences)):\n",
    "    words = nltk.word_tokenize(sentences[i])\n",
    "    words = [lemmatizer.lemmatize(word) for word in words if word not in set(stopwords.words('english'))]\n",
    "    sentences[i] = ' '.join(words) \n",
    "\n",
    "print(sentences) ;"
   ]
  },
  {
   "cell_type": "code",
   "execution_count": 15,
   "metadata": {},
   "outputs": [
    {
     "name": "stdout",
     "output_type": "stream",
     "text": [
      "['The', 'constitution', 'declares', 'India', 'a', 'sovereign,', 'socialist,', 'secular,', 'democratic', 'republic,', 'assuring', 'its', 'citizens', 'justice,', 'equality', 'and', 'liberty,', 'and', 'endeavours', 'to', 'promote', 'fraternity.', 'The', 'original', '1950', 'constitution', 'is', 'preserved', 'in', 'a', 'helium-filled', 'case', 'at', 'the', 'Parliament', 'House', 'in', 'New', 'Delhi.']\n",
      "39\n"
     ]
    }
   ],
   "source": [
    "from nltk.tokenize import WhitespaceTokenizer\n",
    "sentence_data = \"The constitution declares India a sovereign, socialist, secular, democratic republic, assuring its citizens justice, equality and liberty, and endeavours to promote fraternity. The original 1950 constitution is preserved in a helium-filled case at the Parliament House in New Delhi.\"\n",
    "\n",
    "# Whitespace Tokenizer\n",
    "tokens=WhitespaceTokenizer()\n",
    "output=tokens.tokenize(sentence_data)\n",
    "print(output)\n",
    "print(len(output))"
   ]
  },
  {
   "cell_type": "code",
   "execution_count": 16,
   "metadata": {},
   "outputs": [
    {
     "name": "stdout",
     "output_type": "stream",
     "text": [
      "['The', 'constitution', 'declares', 'India', 'a', 'sovereign', ',', 'socialist', ',', 'secular', ',', 'democratic', 'republic', ',', 'assuring', 'its', 'citizens', 'justice', ',', 'equality', 'and', 'liberty', ',', 'and', 'endeavours', 'to', 'promote', 'fraternity', '.', 'The', 'original', '1950', 'constitution', 'is', 'preserved', 'in', 'a', 'helium', '-', 'filled', 'case', 'at', 'the', 'Parliament', 'House', 'in', 'New', 'Delhi', '.']\n",
      "49\n"
     ]
    }
   ],
   "source": [
    "from nltk.tokenize import WordPunctTokenizer\n",
    "sentence_data = \"The constitution declares India a sovereign, socialist, secular, democratic republic, assuring its citizens justice, equality and liberty, and endeavours to promote fraternity. The original 1950 constitution is preserved in a helium-filled case at the Parliament House in New Delhi.\"\n",
    "\n",
    "#WordPunctTokenizer\n",
    "tokens=WordPunctTokenizer()\n",
    "output=tokens.tokenize(sentence_data)\n",
    "print(output)\n",
    "print(len(output))"
   ]
  },
  {
   "cell_type": "code",
   "execution_count": 17,
   "metadata": {},
   "outputs": [
    {
     "name": "stdout",
     "output_type": "stream",
     "text": [
      "['The', 'constitution', 'declares', 'India', 'a', 'sovereign', ',', 'socialist', ',', 'secular', ',', 'democratic', 'republic', ',', 'assuring', 'its', 'citizens', 'justice', ',', 'equality', 'and', 'liberty', ',', 'and', 'endeavours', 'to', 'promote', 'fraternity.', 'The', 'original', '1950', 'constitution', 'is', 'preserved', 'in', 'a', 'helium-filled', 'case', 'at', 'the', 'Parliament', 'House', 'in', 'New', 'Delhi', '.']\n",
      "46\n"
     ]
    }
   ],
   "source": [
    "from nltk.tokenize import TreebankWordTokenizer\n",
    "sentence_data = \"The constitution declares India a sovereign, socialist, secular, democratic republic, assuring its citizens justice, equality and liberty, and endeavours to promote fraternity. The original 1950 constitution is preserved in a helium-filled case at the Parliament House in New Delhi.\"\n",
    "\n",
    "#TreebankWordTokenizer\n",
    "tokens=TreebankWordTokenizer()\n",
    "output=tokens.tokenize(sentence_data)\n",
    "print(output)\n",
    "print(len(output))"
   ]
  }
 ],
 "metadata": {
  "kernelspec": {
   "display_name": "Python 2",
   "language": "python",
   "name": "python2"
  },
  "language_info": {
   "codemirror_mode": {
    "name": "ipython",
    "version": 2
   },
   "file_extension": ".py",
   "mimetype": "text/x-python",
   "name": "python",
   "nbconvert_exporter": "python",
   "pygments_lexer": "ipython2",
   "version": "2.7.16"
  }
 },
 "nbformat": 4,
 "nbformat_minor": 2
}
