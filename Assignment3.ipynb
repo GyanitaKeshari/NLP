{
  "nbformat": 4,
  "nbformat_minor": 0,
  "metadata": {
    "colab": {
      "name": "Assignment3.ipynb",
      "provenance": [],
      "authorship_tag": "ABX9TyOZ3dbxcOXFg5WQOnxUEtbD"
    },
    "kernelspec": {
      "name": "python3",
      "display_name": "Python 3"
    }
  },
  "cells": [
    {
      "cell_type": "code",
      "metadata": {
        "id": "AjAwQi2uJyCD",
        "colab_type": "code",
        "colab": {
          "base_uri": "https://localhost:8080/",
          "height": 87
        },
        "outputId": "6327a933-5094-4063-d6a6-65e0d1dba9e5"
      },
      "source": [
        "pip install GetOldTweets3"
      ],
      "execution_count": 29,
      "outputs": [
        {
          "output_type": "stream",
          "text": [
            "Requirement already satisfied: GetOldTweets3 in /usr/local/lib/python3.6/dist-packages (0.0.11)\n",
            "Requirement already satisfied: pyquery>=1.2.10 in /usr/local/lib/python3.6/dist-packages (from GetOldTweets3) (1.4.1)\n",
            "Requirement already satisfied: lxml>=3.5.0 in /usr/local/lib/python3.6/dist-packages (from GetOldTweets3) (4.2.6)\n",
            "Requirement already satisfied: cssselect>0.7.9 in /usr/local/lib/python3.6/dist-packages (from pyquery>=1.2.10->GetOldTweets3) (1.1.0)\n"
          ],
          "name": "stdout"
        }
      ]
    },
    {
      "cell_type": "code",
      "metadata": {
        "id": "qjfKBGCWKiCB",
        "colab_type": "code",
        "colab": {}
      },
      "source": [
        "import re \n",
        "from textblob import TextBlob \n",
        "import GetOldTweets3 as got\n",
        "from matplotlib import pyplot as plt\n",
        "def clean_tweet(tweet): \n",
        "        return ' '.join(re.sub(\"(@[A-Za-z0-9]+)|([^0-9A-Za-z \\t]) |(\\w+:\\/\\/\\S+)\", \" \", tweet).split()) "
      ],
      "execution_count": 30,
      "outputs": []
    },
    {
      "cell_type": "markdown",
      "metadata": {
        "id": "U2FGzZ9yMA-Q",
        "colab_type": "text"
      },
      "source": [
        "### **From Lockdown to Unlock 3.0 regarding 'Lockdown'**"
      ]
    },
    {
      "cell_type": "code",
      "metadata": {
        "id": "Q0RUC5k5KvPj",
        "colab_type": "code",
        "colab": {}
      },
      "source": [
        "tweetCriteria = got.manager.TweetCriteria().setQuerySearch('lockdown')\\\n",
        "                                           .setSince(\"2020-03-24\")\\\n",
        "                                           .setUntil(\"2020-08-30\")\\\n",
        "                                           .setMaxTweets(500)\n",
        "tweet = got.manager.TweetManager.getTweets(tweetCriteria)"
      ],
      "execution_count": 31,
      "outputs": []
    },
    {
      "cell_type": "code",
      "metadata": {
        "id": "ffxUC2vrK6Oz",
        "colab_type": "code",
        "colab": {}
      },
      "source": [
        "def get_tweet_sentiment(tweet): \n",
        "        \n",
        "        analysis = TextBlob(clean_tweet(tweet)) \n",
        "\n",
        "        if analysis.sentiment.polarity > 0: \n",
        "            return 'positive'\n",
        "        elif analysis.sentiment.polarity == 0: \n",
        "            return 'neutral'\n",
        "        else: \n",
        "            return 'negative'"
      ],
      "execution_count": 32,
      "outputs": []
    },
    {
      "cell_type": "code",
      "metadata": {
        "id": "-1vJHlg6LCKO",
        "colab_type": "code",
        "colab": {}
      },
      "source": [
        "tweets=[]\n",
        "for tw in tweet: \n",
        "\n",
        "  parsed_tweet = {}\n",
        "  parsed_tweet['text'] = tw.text \n",
        "  parsed_tweet['sentiment'] =get_tweet_sentiment(tw.text) \n",
        "  if tw.retweets > 0: \n",
        "    if parsed_tweet not in tweets: \n",
        "      tweets.append(parsed_tweet) \n",
        "    else:\n",
        "      tweets.append(parsed_tweet)"
      ],
      "execution_count": 33,
      "outputs": []
    },
    {
      "cell_type": "code",
      "metadata": {
        "id": "l6RSd9_YLX3p",
        "colab_type": "code",
        "colab": {
          "base_uri": "https://localhost:8080/",
          "height": 411
        },
        "outputId": "ee45d245-cce3-404c-a63c-6101f7bdf442"
      },
      "source": [
        "positive_tweets = [tweet for tweet in tweets if tweet['sentiment'] == 'positive']\n",
        "negative_tweets = [tweet for tweet in tweets if tweet['sentiment'] == 'negative']\n",
        "neutral_tweets=[tweet for tweet in tweets if tweet['sentiment']=='neutral']\n",
        "per_positive=len(positive_tweets)/len(tweets)*100\n",
        "per_negative=len(negative_tweets)/len(tweets)*100\n",
        "per_neutral=len(neutral_tweets)/len(tweets)*100\n",
        "lab=['Positive','Negative','Neutral']\n",
        "data=[per_positive,per_negative,per_neutral]\n",
        "fig = plt.figure(figsize =(7, 7), edgecolor='k') \n",
        "plt.pie(data, labels = lab) \n",
        "plt.show()"
      ],
      "execution_count": 34,
      "outputs": [
        {
          "output_type": "display_data",
          "data": {
            "image/png": "[encoded data removed]",
            "text/plain": [
              "<Figure size 504x504 with 1 Axes>"
            ]
          },
          "metadata": {
            "tags": []
          }
        }
      ]
    },
    {
      "cell_type": "markdown",
      "metadata": {
        "id": "vP5uESxKOlXW",
        "colab_type": "text"
      },
      "source": [
        "### **From Lockdown to Unlock 3.0 regarding 'Unlock'**"
      ]
    },
    {
      "cell_type": "code",
      "metadata": {
        "id": "_FE32ncLOyiN",
        "colab_type": "code",
        "colab": {
          "base_uri": "https://localhost:8080/",
          "height": 411
        },
        "outputId": "514ae927-fb07-4f62-e16b-35b18b90655f"
      },
      "source": [
        "tweetCriteria = got.manager.TweetCriteria().setQuerySearch('unlock')\\\n",
        "                                           .setSince(\"2020-03-24\")\\\n",
        "                                           .setUntil(\"2020-08-30\")\\\n",
        "                                           .setMaxTweets(500)\n",
        "tweet = got.manager.TweetManager.getTweets(tweetCriteria)\n",
        "def get_tweet_sentiment(tweet): \n",
        "        \n",
        "        analysis = TextBlob(clean_tweet(tweet)) \n",
        "\n",
        "        if analysis.sentiment.polarity > 0: \n",
        "            return 'positive'\n",
        "        elif analysis.sentiment.polarity == 0: \n",
        "            return 'neutral'\n",
        "        else: \n",
        "            return 'negative'\n",
        "\n",
        "tweets=[]\n",
        "for tw in tweet: \n",
        "\n",
        "  parsed_tweet = {}\n",
        "  parsed_tweet['text'] = tw.text \n",
        "  parsed_tweet['sentiment'] =get_tweet_sentiment(tw.text) \n",
        "  if tw.retweets > 0: \n",
        "    if parsed_tweet not in tweets: \n",
        "      tweets.append(parsed_tweet) \n",
        "    else:\n",
        "      tweets.append(parsed_tweet)   \n",
        "\n",
        "positive_tweets = [tweet for tweet in tweets if tweet['sentiment'] == 'positive']\n",
        "negative_tweets = [tweet for tweet in tweets if tweet['sentiment'] == 'negative']\n",
        "neutral_tweets=[tweet for tweet in tweets if tweet['sentiment']=='neutral']\n",
        "per_positive=len(positive_tweets)/len(tweets)*100\n",
        "per_negative=len(negative_tweets)/len(tweets)*100\n",
        "per_neutral=len(neutral_tweets)/len(tweets)*100\n",
        "lab=['Positive','Negative','Neutral']\n",
        "data=[per_positive,per_negative,per_neutral]\n",
        "fig = plt.figure(figsize =(7, 7), edgecolor='k') \n",
        "plt.pie(data, labels = lab) \n",
        "plt.show()         "
      ],
      "execution_count": 35,
      "outputs": [
        {
          "output_type": "display_data",
          "data": {
            "image/png": "[encoded data removed]",
            "text/plain": [
              "<Figure size 504x504 with 1 Axes>"
            ]
          },
          "metadata": {
            "tags": []
          }
        }
      ]
    }
  ]
}