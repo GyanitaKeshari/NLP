{
  "nbformat": 4,
  "nbformat_minor": 0,
  "metadata": {
    "colab": {
      "name": "Assignment3.ipynb",
      "provenance": [],
      "authorship_tag": "ABX9TyNZgdELv39H3e8uek2khZUO"
    },
    "kernelspec": {
      "name": "python3",
      "display_name": "Python 3"
    }
  },
  "cells": [
    {
      "cell_type": "code",
      "metadata": {
        "id": "AjAwQi2uJyCD",
        "colab_type": "code",
        "colab": {
          "base_uri": "https://localhost:8080/",
          "height": 87
        },
        "outputId": "44640a22-1304-497b-e82d-d15c4f0cd054"
      },
      "source": [
        "pip install GetOldTweets3"
      ],
      "execution_count": 22,
      "outputs": [
        {
          "output_type": "stream",
          "text": [
            "Requirement already satisfied: GetOldTweets3 in /usr/local/lib/python3.6/dist-packages (0.0.11)\n",
            "Requirement already satisfied: lxml>=3.5.0 in /usr/local/lib/python3.6/dist-packages (from GetOldTweets3) (4.2.6)\n",
            "Requirement already satisfied: pyquery>=1.2.10 in /usr/local/lib/python3.6/dist-packages (from GetOldTweets3) (1.4.1)\n",
            "Requirement already satisfied: cssselect>0.7.9 in /usr/local/lib/python3.6/dist-packages (from pyquery>=1.2.10->GetOldTweets3) (1.1.0)\n"
          ],
          "name": "stdout"
        }
      ]
    },
    {
      "cell_type": "code",
      "metadata": {
        "id": "qjfKBGCWKiCB",
        "colab_type": "code",
        "colab": {}
      },
      "source": [
        "import re \n",
        "from textblob import TextBlob \n",
        "import GetOldTweets3 as got\n",
        "from matplotlib import pyplot as plt\n",
        "def clean_tweet(tweet): \n",
        "        return ' '.join(re.sub(\"(@[A-Za-z0-9]+)|([^0-9A-Za-z \\t]) |(\\w+:\\/\\/\\S+)\", \" \", tweet).split()) "
      ],
      "execution_count": 23,
      "outputs": []
    },
    {
      "cell_type": "markdown",
      "metadata": {
        "id": "U2FGzZ9yMA-Q",
        "colab_type": "text"
      },
      "source": [
        "### **From Lockdown to Unlock 3.0 regarding 'Lockdown'**"
      ]
    },
    {
      "cell_type": "code",
      "metadata": {
        "id": "Q0RUC5k5KvPj",
        "colab_type": "code",
        "colab": {}
      },
      "source": [
        "tweetCriteria = got.manager.TweetCriteria().setQuerySearch('lockdown')\\\n",
        "                                           .setSince(\"2020-03-24\")\\\n",
        "                                           .setUntil(\"2020-08-30\")\\\n",
        "                                           .setMaxTweets(500)\n",
        "tweet = got.manager.TweetManager.getTweets(tweetCriteria)"
      ],
      "execution_count": 24,
      "outputs": []
    },
    {
      "cell_type": "code",
      "metadata": {
        "id": "ffxUC2vrK6Oz",
        "colab_type": "code",
        "colab": {}
      },
      "source": [
        "def get_tweet_sentiment(tweet): \n",
        "        \n",
        "        analysis = TextBlob(clean_tweet(tweet)) \n",
        "\n",
        "        if analysis.sentiment.polarity > 0: \n",
        "            return 'positive'\n",
        "        elif analysis.sentiment.polarity == 0: \n",
        "            return 'neutral'\n",
        "        else: \n",
        "            return 'negative'"
      ],
      "execution_count": 25,
      "outputs": []
    },
    {
      "cell_type": "code",
      "metadata": {
        "id": "-1vJHlg6LCKO",
        "colab_type": "code",
        "colab": {}
      },
      "source": [
        "tweets=[]\n",
        "for tw in tweet: \n",
        "\n",
        "  parsed_tweet = {}\n",
        "  parsed_tweet['text'] = tw.text \n",
        "  parsed_tweet['sentiment'] =get_tweet_sentiment(tw.text) \n",
        "  if tw.retweets > 0: \n",
        "    if parsed_tweet not in tweets: \n",
        "      tweets.append(parsed_tweet) \n",
        "    else:\n",
        "      tweets.append(parsed_tweet)"
      ],
      "execution_count": 26,
      "outputs": []
    },
    {
      "cell_type": "code",
      "metadata": {
        "id": "l6RSd9_YLX3p",
        "colab_type": "code",
        "colab": {
          "base_uri": "https://localhost:8080/",
          "height": 411
        },
        "outputId": "bd569c4b-20ad-4904-85a1-95a9d1cc8611"
      },
      "source": [
        "positive_tweets = [tweet for tweet in tweets if tweet['sentiment'] == 'positive']\n",
        "negative_tweets = [tweet for tweet in tweets if tweet['sentiment'] == 'negative']\n",
        "neutral_tweets=[tweet for tweet in tweets if tweet['sentiment']=='neutral']\n",
        "per_positive=len(positive_tweets)/len(tweets)*100\n",
        "per_negative=len(negative_tweets)/len(tweets)*100\n",
        "per_neutral=len(neutral_tweets)/len(tweets)*100\n",
        "lab=['Positive','Negative','Neutral']\n",
        "data=[per_positive,per_negative,per_neutral]\n",
        "fig = plt.figure(figsize =(7, 7), edgecolor='k') \n",
        "plt.pie(data, labels = lab) \n",
        "plt.show()"
      ],
      "execution_count": 27,
      "outputs": [
        {
          "output_type": "display_data",
          "data": {
            "image/png": "[encoded data removed]",
            "text/plain": [
              "<Figure size 504x504 with 1 Axes>"
            ]
          },
          "metadata": {
            "tags": []
          }
        }
      ]
    },
    {
      "cell_type": "markdown",
      "metadata": {
        "id": "vP5uESxKOlXW",
        "colab_type": "text"
      },
      "source": [
        "### **From Lockdown to Unlock 3.0 regarding 'Unlockdown'**"
      ]
    },
    {
      "cell_type": "code",
      "metadata": {
        "id": "_FE32ncLOyiN",
        "colab_type": "code",
        "colab": {
          "base_uri": "https://localhost:8080/",
          "height": 411
        },
        "outputId": "1d7978d2-3dc9-4079-b367-f625e47f8703"
      },
      "source": [
        "tweetCriteria = got.manager.TweetCriteria().setQuerySearch('unlockdown')\\\n",
        "                                           .setSince(\"2020-03-24\")\\\n",
        "                                           .setUntil(\"2020-08-30\")\\\n",
        "                                           .setMaxTweets(500)\n",
        "tweet = got.manager.TweetManager.getTweets(tweetCriteria)\n",
        "def get_tweet_sentiment(tweet): \n",
        "        \n",
        "        analysis = TextBlob(clean_tweet(tweet)) \n",
        "\n",
        "        if analysis.sentiment.polarity > 0: \n",
        "            return 'positive'\n",
        "        elif analysis.sentiment.polarity == 0: \n",
        "            return 'neutral'\n",
        "        else: \n",
        "            return 'negative'\n",
        "\n",
        "tweets=[]\n",
        "for tw in tweet: \n",
        "\n",
        "  parsed_tweet = {}\n",
        "  parsed_tweet['text'] = tw.text \n",
        "  parsed_tweet['sentiment'] =get_tweet_sentiment(tw.text) \n",
        "  if tw.retweets > 0: \n",
        "    if parsed_tweet not in tweets: \n",
        "      tweets.append(parsed_tweet) \n",
        "    else:\n",
        "      tweets.append(parsed_tweet)   \n",
        "\n",
        "positive_tweets = [tweet for tweet in tweets if tweet['sentiment'] == 'positive']\n",
        "negative_tweets = [tweet for tweet in tweets if tweet['sentiment'] == 'negative']\n",
        "neutral_tweets=[tweet for tweet in tweets if tweet['sentiment']=='neutral']\n",
        "per_positive=len(positive_tweets)/len(tweets)*100\n",
        "per_negative=len(negative_tweets)/len(tweets)*100\n",
        "per_neutral=len(neutral_tweets)/len(tweets)*100\n",
        "lab=['Positive','Negative','Neutral']\n",
        "data=[per_positive,per_negative,per_neutral]\n",
        "fig = plt.figure(figsize =(7, 7), edgecolor='k') \n",
        "plt.pie(data, labels = lab) \n",
        "plt.show()         "
      ],
      "execution_count": 28,
      "outputs": [
        {
          "output_type": "display_data",
          "data": {
            "image/png": "[encoded data removed]",
            "text/plain": [
              "<Figure size 504x504 with 1 Axes>"
            ]
          },
          "metadata": {
            "tags": []
          }
        }
      ]
    }
  ]
}